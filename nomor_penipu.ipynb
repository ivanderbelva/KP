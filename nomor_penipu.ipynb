{
  "cells": [
    {
      "cell_type": "markdown",
      "metadata": {
        "id": "view-in-github",
        "colab_type": "text"
      },
      "source": [
        "<a href=\"https://colab.research.google.com/github/ivanderbelva/KP/blob/main/nomor_penipu.ipynb\" target=\"_parent\"><img src=\"https://colab.research.google.com/assets/colab-badge.svg\" alt=\"Open In Colab\"/></a>"
      ]
    },
    {
      "cell_type": "code",
      "execution_count": 2,
      "metadata": {
        "id": "0Ypqz4AmAg3d"
      },
      "outputs": [],
      "source": [
        "import numpy as np\n",
        "import pandas as pd\n",
        "import string\n",
        "from datetime import datetime\n",
        "from sklearn import datasets\n",
        "from sklearn.model_selection import train_test_split\n",
        "from sklearn.ensemble import RandomForestClassifier\n",
        "from sklearn.datasets import make_classification"
      ]
    },
    {
      "cell_type": "code",
      "execution_count": 3,
      "metadata": {
        "id": "Hz7YMju2Cu1G",
        "colab": {
          "base_uri": "https://localhost:8080/"
        },
        "outputId": "a52099ad-7ca4-48eb-efb5-9d4dde4b8ae6"
      },
      "outputs": [
        {
          "output_type": "stream",
          "name": "stdout",
          "text": [
            "         nomor       date  jumlah panggilan  tag  Delta\n",
            "0  82116569565 2022-12-08               450    1   -111\n",
            "1   8180858975 2005-01-03               806    0   6437\n",
            "2  85156595842 2019-03-17               441    0   1251\n",
            "3  81384535326 2010-06-20               190    1   4443\n",
            "4   8123456789 2022-12-08               115    0   -111\n",
            "5  82223334445 2021-08-13               175    1    371\n",
            "6  85322788909 2019-12-30               336    0    963\n",
            "7  82323238889 2022-12-08               299    0   -111\n",
            "8  82345665433 2022-10-08               159    1    -50\n",
            "9  81293812093 1990-12-08               182    0  11577\n"
          ]
        }
      ],
      "source": [
        "today = datetime.now()\n",
        "url='https://github.com/ivanderbelva/KP/raw/main/datanomor_final.csv'\n",
        "listdelta=[]\n",
        "df = pd.read_csv(url,sep=';')\n",
        "#df.set_index('date', inplace=False)\n",
        "\n",
        "df['date'] = df['date'].astype('datetime64[D]')\n",
        "val=df.values\n",
        "ubahtolist=val.tolist()\n",
        "type(ubahtolist[0][1])\n",
        "#ubahtolist[0][1]=datetime.strptime(ubahtolist[0][1],'%d/%m/%y')\n",
        "for i in ubahtolist:\n",
        "  #print(i[1].date())\n",
        "  delta=today.date()-i[1].date()\n",
        "  #print(delta.days)\n",
        "  listdelta.append(delta.days)\n",
        "  #print(listdelta)\n",
        "  #print(delta)\n",
        "#print(listcuriga)\n",
        "df['Delta']=listdelta\n",
        "print(df.head(10))\n",
        "\n",
        "x=df[['Delta','jumlah panggilan']]\n",
        "y=df['tag']\n",
        "X_train, X_test, y_train, y_test = train_test_split(x.values, y, test_size=0.2)"
      ]
    },
    {
      "cell_type": "code",
      "source": [
        "clf=RandomForestClassifier(n_estimators=100)\n",
        "clf.fit(X_train,y_train)\n",
        "y_pred=clf.predict(X_test)"
      ],
      "metadata": {
        "id": "xpWfip94TJm6"
      },
      "execution_count": 4,
      "outputs": []
    },
    {
      "cell_type": "code",
      "source": [
        "#Import scikit-learn metrics module for accuracy calculation\n",
        "from sklearn import metrics\n",
        "# Model Accuracy, how often is the classifier correct?\n",
        "print(\"Accuracy:\",metrics.accuracy_score(y_test, y_pred))\n"
      ],
      "metadata": {
        "colab": {
          "base_uri": "https://localhost:8080/"
        },
        "id": "L9i-I9s0dh3Y",
        "outputId": "fe942bbd-c4e6-4d1f-ffb8-2b2528657c1c"
      },
      "execution_count": 5,
      "outputs": [
        {
          "output_type": "stream",
          "name": "stdout",
          "text": [
            "Accuracy: 0.8260869565217391\n"
          ]
        }
      ]
    },
    {
      "cell_type": "code",
      "source": [
        "url2='https://github.com/ivanderbelva/KP/raw/main/data_masuk.csv'\n",
        "listdelta2=[]\n",
        "df2 = pd.read_csv(url2,sep=';')\n",
        "#df.set_index('date', inplace=False)\n",
        "\n",
        "df2['date'] = df2['date'].astype('datetime64[D]')\n",
        "val2=df2.values\n",
        "ubahtolist2=val2.tolist()\n",
        "for i in ubahtolist2:\n",
        "  #print(i[1].date())\n",
        "  delta2=today.date()-i[1].date()\n",
        "  #print(delta.days)\n",
        "  listdelta2.append(delta2.days)\n",
        "  #print(listdelta)\n",
        "  #print(delta)\n",
        "#print(listcuriga)\n",
        "df2['Delta']=listdelta2\n",
        "print(df2.head())"
      ],
      "metadata": {
        "colab": {
          "base_uri": "https://localhost:8080/"
        },
        "id": "l2UrVoO6eixs",
        "outputId": "a8ba5642-9fc6-4e81-8375-a9cd246b81f3"
      },
      "execution_count": 6,
      "outputs": [
        {
          "output_type": "stream",
          "name": "stdout",
          "text": [
            "         nomor       date  jumlah panggilan  Delta\n",
            "0  82365308269 2011-03-21               129   4169\n",
            "1  81324547474 2011-03-29               797   4161\n",
            "2   8122015409 2011-09-20               845   3986\n",
            "3  81222404765 2011-10-27                10   3949\n",
            "4  81384535326 2011-11-14               336   3931\n"
          ]
        }
      ]
    },
    {
      "cell_type": "code",
      "source": [
        "hasil_prediksi=[]\n",
        "kemungkinan_scam=[]\n",
        "val2=df2.values\n",
        "ubahtolist2=val2.tolist()\n",
        "for i in ubahtolist2:\n",
        "  #print(i[3])\n",
        "  #print(i[2])\n",
        "  hasil_prediksi.append(clf.predict([[i[3],i[2]]]))\n",
        "df2['tag']=hasil_prediksi\n",
        "print(df2.head(10))\n",
        "print()\n",
        "val2=df2.values\n",
        "ubahtolist2=val2.tolist()\n",
        "for i in ubahtolist2:\n",
        "  if i[4]==1:\n",
        "    #print(i)\n",
        "    print('nomor : ',i[0],'\\ndidaftarkan pada tanggal : ',i[1],'\\nmemiliki kemungkinan penipu dengan akurasi : ',metrics.accuracy_score(y_test, y_pred),'\\n')\n",
        "    kemungkinan_scam.append(i)\n",
        "    for j in ubahtolist:\n",
        "      if (i[0]==j[0]) and (i[4]==j[3]) and (j[3]==1):\n",
        "        print('nomor : ',i[0],'\\ndidaftarkan pada tanggal : ',i[1],'\\nsudah pasti adalah penipu\\n')\n"
      ],
      "metadata": {
        "colab": {
          "base_uri": "https://localhost:8080/"
        },
        "id": "cM1-eJS0pIXw",
        "outputId": "70647d35-32e8-4e94-ea9d-7bae2e3185c3"
      },
      "execution_count": 11,
      "outputs": [
        {
          "output_type": "stream",
          "name": "stdout",
          "text": [
            "         nomor       date  jumlah panggilan  Delta  tag\n",
            "0  82365308269 2011-03-21               129   4169  [0]\n",
            "1  81324547474 2011-03-29               797   4161  [0]\n",
            "2   8122015409 2011-09-20               845   3986  [1]\n",
            "3  81222404765 2011-10-27                10   3949  [0]\n",
            "4  81384535326 2011-11-14               336   3931  [0]\n",
            "5   8388626297 2015-11-06               509   2478  [0]\n",
            "6  89526645001 2015-06-07               220   2630  [0]\n",
            "7  83167030592 2016-11-25               965   2093  [0]\n",
            "8  84567851234 2021-06-28               860    417  [1]\n",
            "9  81293812093 2021-10-14               412    309  [0]\n",
            "\n",
            "nomor :  8122015409 \n",
            "didaftarkan pada tanggal :  2011-09-20 00:00:00 \n",
            "memiliki kemungkinan penipu dengan akurasi :  0.8260869565217391 \n",
            "\n",
            "nomor :  84567851234 \n",
            "didaftarkan pada tanggal :  2021-06-28 00:00:00 \n",
            "memiliki kemungkinan penipu dengan akurasi :  0.8260869565217391 \n",
            "\n"
          ]
        }
      ]
    }
  ],
  "metadata": {
    "colab": {
      "name": "nomor_penipu.ipynb",
      "provenance": [],
      "include_colab_link": true
    },
    "kernelspec": {
      "display_name": "Python 3",
      "name": "python3"
    },
    "language_info": {
      "name": "python"
    }
  },
  "nbformat": 4,
  "nbformat_minor": 0
}